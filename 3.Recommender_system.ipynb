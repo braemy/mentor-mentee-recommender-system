{
 "cells": [
  {
   "cell_type": "code",
   "execution_count": 7,
   "metadata": {
    "collapsed": true
   },
   "outputs": [],
   "source": [
    "import utils\n",
    "import numpy as np\n",
    "from ipywidgets import widgets\n",
    "from IPython.display import display\n"
   ]
  },
  {
   "cell_type": "markdown",
   "metadata": {},
   "source": [
    "# Recommender System"
   ]
  },
  {
   "cell_type": "markdown",
   "metadata": {},
   "source": [
    "## The Netflix Challenge"
   ]
  },
  {
   "cell_type": "markdown",
   "metadata": {},
   "source": [
    "The principle of this recommander system is the same as the Netflix Challenge:\n",
    "In the nexflix challenge we start with one matrix NxM with the user in the row and the movies in the column. The matrix is not full\n",
    "\n",
    "The goal is to factorize the matrix in 2 others matrix V=NxK and Z=KxM where K is a variable. It represents also the number of features\n",
    "\n",
    "There is an explanation to this factorization. Indeed the matrix V represent the user and the différent features that caracterize a movie (love, horror, action, period of time,...) and the user give a score to each of those features.\n",
    "\n",
    "In the mean time we have the matrix Z where each line is a features and each column is a movie. The goal is to describe each movie according to the features\n",
    "\n",
    "The last step is to do a matrix multiplication among V and Z and we obtain the score a user would give to the movie"
   ]
  },
  {
   "cell_type": "markdown",
   "metadata": {},
   "source": [
    "## Mentor-Mentee recommender system"
   ]
  },
  {
   "cell_type": "markdown",
   "metadata": {},
   "source": [
    "Is it possible to map that prblem to the Netflix Challenge. Indeed every mentor and every mentee will have their own favorite field. And we can imagine other features as well. But let's keep it simple. So if we can find a list of features to describe the mentors and to reprente what the mentee are looking for, we end up with the same representation as in the Netflix challenge:\n",
    "    -user == mentee\n",
    "    -movie == mentor\n",
    "    \n",
    "To fill the matrix V (the one representing the mentee) we can imagine asking question to the mentee that will help giving a score to each feautres (topics) or directly ask to give a grade to each topics. \n",
    "\n",
    "To fill the Z matrix (mentor) we will use the dblp file and infer k topics from the titles and give a grade to each mentor in each detected topics\n",
    "\n",
    "The last step will be to do the matrix multiplication among 1 or many mentee and the mentor. Then assign one mentee to a mentor based one the rulse we want to apply (1-1 mapping, 1-N mapping,...)"
   ]
  },
  {
   "cell_type": "code",
   "execution_count": 8,
   "metadata": {},
   "outputs": [],
   "source": [
    "authorID_to_titles_stem = utils.load_pickle(\"../pmi_data/authorID_to_titles_stem.p\")                     "
   ]
  },
  {
   "cell_type": "code",
   "execution_count": 10,
   "metadata": {},
   "outputs": [],
   "source": [
    "score_by_author = utils.load_pickle(\"../pmi_data/score_by_author_by_document.p\")"
   ]
  },
  {
   "cell_type": "markdown",
   "metadata": {},
   "source": [
    "Scale all the grade between 0 (with lowest value) and 10 (the one with highest value)"
   ]
  },
  {
   "cell_type": "code",
   "execution_count": 12,
   "metadata": {
    "collapsed": true
   },
   "outputs": [],
   "source": [
    "def scale_list(list_):\n",
    "    min_ = min(list_)\n",
    "    max_ = max(list_)\n",
    "    diff = max_ - min_\n",
    "    finale_scale = 10\n",
    "    return [(i-min_)/diff * finale_scale for i in list_]"
   ]
  },
  {
   "cell_type": "code",
   "execution_count": 13,
   "metadata": {},
   "outputs": [
    {
     "name": "stderr",
     "output_type": "stream",
     "text": [
      "/home/braemy/.conda/envs/py35/lib/python3.5/site-packages/ipykernel_launcher.py:6: RuntimeWarning: invalid value encountered in double_scalars\n",
      "  \n"
     ]
    }
   ],
   "source": [
    "score_by_author = np.apply_along_axis(scale_list, axis=1, arr=score_by_author)"
   ]
  },
  {
   "cell_type": "code",
   "execution_count": 19,
   "metadata": {
    "scrolled": true
   },
   "outputs": [
    {
     "data": {
      "text/plain": [
       "array([  0.,   0.,   0.,   0.,   0.,   0.,   0.,   0.,  10.,   0.,   0.,\n",
       "         0.,   0.,   0.,   0.,   0.,   0.,   0.,   0.,   0.])"
      ]
     },
     "execution_count": 19,
     "metadata": {},
     "output_type": "execute_result"
    }
   ],
   "source": [
    "score_by_author[0]"
   ]
  },
  {
   "cell_type": "code",
   "execution_count": 22,
   "metadata": {
    "collapsed": true
   },
   "outputs": [],
   "source": [
    "def get_mentor(mentee):\n",
    "    return np.argmax(np.dot(mentee, score_by_author.T), axis=1)"
   ]
  },
  {
   "cell_type": "markdown",
   "metadata": {},
   "source": [
    "Mentee should fill the array by giving a for each topic according to his preferences"
   ]
  },
  {
   "cell_type": "code",
   "execution_count": 26,
   "metadata": {},
   "outputs": [],
   "source": [
    "mentee1 = np.zeros(20)\n",
    "mentee1[1] = 10\n",
    "author_id = get_mentor([mentee1])"
   ]
  },
  {
   "cell_type": "code",
   "execution_count": 31,
   "metadata": {},
   "outputs": [
    {
     "data": {
      "text/plain": [
       "array([6283])"
      ]
     },
     "execution_count": 31,
     "metadata": {},
     "output_type": "execute_result"
    }
   ],
   "source": [
    "author_id"
   ]
  },
  {
   "cell_type": "code",
   "execution_count": 34,
   "metadata": {
    "scrolled": true
   },
   "outputs": [
    {
     "data": {
      "text/plain": [
       "[['creativ', 'conduct', 'handl', 'caira', 'project']]"
      ]
     },
     "execution_count": 34,
     "metadata": {},
     "output_type": "execute_result"
    }
   ],
   "source": [
    "list(authorID_to_titles_stem.values())[author_id[0]]"
   ]
  },
  {
   "cell_type": "markdown",
   "metadata": {},
   "source": [
    "This technique works only to assign the best mentor to one mentee\n",
    "\n",
    "For matching a list of mentee and list of mentor (for master thesis for example), once we have the matrix, we need to use an algorithm that will perform the matching. We can imagine using **Gale–Shapley algorithm** that use the order of preference for each mentor and mentee and in case of the same number of mentor/mentee, there will be a matching for everybody"
   ]
  },
  {
   "cell_type": "markdown",
   "metadata": {},
   "source": [
    "I didn't have the time to implement that part"
   ]
  },
  {
   "cell_type": "code",
   "execution_count": null,
   "metadata": {
    "collapsed": true
   },
   "outputs": [],
   "source": []
  }
 ],
 "metadata": {
  "kernelspec": {
   "display_name": "Python 3",
   "language": "python",
   "name": "python3"
  },
  "language_info": {
   "codemirror_mode": {
    "name": "ipython",
    "version": 3
   },
   "file_extension": ".py",
   "mimetype": "text/x-python",
   "name": "python",
   "nbconvert_exporter": "python",
   "pygments_lexer": "ipython3",
   "version": "3.5.3"
  }
 },
 "nbformat": 4,
 "nbformat_minor": 2
}

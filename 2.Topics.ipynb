{
 "cells": [
  {
   "cell_type": "code",
   "execution_count": 53,
   "metadata": {
    "collapsed": true
   },
   "outputs": [],
   "source": [
    "import nltk\n",
    "import numpy as np\n",
    "import pprint\n",
    "import utils as utl\n",
    "from time import time\n",
    "from gensim import corpora, models, utils\n",
    "from nltk.corpus import stopwords\n",
    "from nltk.stem import WordNetLemmatizer\n",
    "from nltk.stem.snowball import EnglishStemmer\n",
    "from tqdm import tqdm\n",
    "from tqdm import tqdm_notebook as tqdm\n",
    "\n"
   ]
  },
  {
   "cell_type": "code",
   "execution_count": 39,
   "metadata": {
    "collapsed": true
   },
   "outputs": [],
   "source": [
    "authorID_to_titles = utl.load_pickle(\"../pmi_data/authorID_to_publications_clean.p\")"
   ]
  },
  {
   "cell_type": "markdown",
   "metadata": {},
   "source": [
    "# Preprocessing"
   ]
  },
  {
   "cell_type": "markdown",
   "metadata": {},
   "source": [
    "For the topic extraction part we will use the dictionary of author->list_of_publications collected in the previous step. We need to do some preprocessing first"
   ]
  },
  {
   "cell_type": "markdown",
   "metadata": {},
   "source": [
    "1. We use the utils.simple_preprocess function from gensim to return a list of lowered tokenized word\n",
    "2. We stem each word\n",
    "3. filter out the stopwords."
   ]
  },
  {
   "cell_type": "code",
   "execution_count": 4,
   "metadata": {
    "collapsed": true
   },
   "outputs": [],
   "source": [
    "#Uncomment this cell if you don't have the data on your computer\n",
    "#nltk.download(\"stopwords\")\n",
    "#nltk.download(\"wordnet\")"
   ]
  },
  {
   "cell_type": "markdown",
   "metadata": {},
   "source": [
    "For the stop words we use the one given by nltk. This set seems small so we include also other common English stop words found online or in the titles"
   ]
  },
  {
   "cell_type": "code",
   "execution_count": 73,
   "metadata": {
    "collapsed": true
   },
   "outputs": [],
   "source": [
    "english_stop_words = [\"a\", \"about\", \"above\", \"above\", \"across\", \"after\", \"afterwards\", \"again\", \"against\", \"all\", \"almost\", \"alone\", \"along\", \"already\", \"also\",\"although\",\"always\",\"am\",\"among\", \"amongst\", \"amoungst\", \"amount\",  \"an\", \"and\", \"another\", \"any\",\"anyhow\",\"anyone\",\"anything\",\"anyway\", \"anywhere\", \"are\", \"around\", \"as\",  \"at\", \"back\",\"be\",\"became\", \"because\",\"become\",\"becomes\", \"becoming\", \"been\", \"before\", \"beforehand\", \"behind\", \"being\", \"below\", \"beside\", \"besides\", \"between\", \"beyond\", \"bill\", \"both\", \"bottom\",\"but\", \"by\", \"call\", \"can\", \"cannot\", \"cant\", \"co\", \"con\", \"could\", \"couldnt\", \"cry\", \"de\", \"describe\", \"detail\", \"do\", \"done\", \"down\", \"due\", \"during\", \"each\", \"eg\", \"eight\", \"either\", \"eleven\",\"else\", \"elsewhere\", \"empty\", \"enough\", \"etc\", \"even\", \"ever\", \"every\", \"everyone\", \"everything\", \"everywhere\", \"except\", \"few\", \"fifteen\", \"fify\", \"fill\", \"find\", \"fire\", \"first\", \"five\", \"for\", \"former\", \"formerly\", \"forty\", \"found\", \"four\", \"from\", \"front\", \"full\", \"further\", \"get\", \"give\", \"go\", \"had\", \"has\", \"hasnt\", \"have\", \"he\", \"hence\", \"her\", \"here\", \"hereafter\", \"hereby\", \"herein\", \"hereupon\", \"hers\", \"herself\", \"him\", \"himself\", \"his\", \"how\", \"however\", \"hundred\", \"ie\", \"if\", \"in\", \"inc\", \"indeed\", \"interest\", \"into\", \"is\", \"it\", \"its\", \"itself\", \"keep\", \"last\", \"latter\", \"latterly\", \"least\", \"less\", \"ltd\", \"made\", \"many\", \"may\", \"me\", \"meanwhile\", \"might\", \"mill\", \"mine\", \"more\", \"moreover\", \"most\", \"mostly\", \"move\", \"much\", \"must\", \"my\", \"myself\", \"name\", \"namely\", \"neither\", \"never\", \"nevertheless\", \"next\", \"nine\", \"no\", \"nobody\", \"none\", \"noone\", \"nor\", \"not\", \"nothing\", \"now\", \"nowhere\", \"of\", \"off\", \"often\", \"on\", \"once\", \"one\", \"only\", \"onto\", \"or\", \"other\", \"others\", \"otherwise\", \"our\", \"ours\", \"ourselves\", \"out\", \"over\", \"own\",\"part\", \"per\", \"perhaps\", \"please\", \"put\", \"rather\", \"re\", \"same\", \"see\", \"seem\", \"seemed\", \"seeming\", \"seems\", \"serious\", \"several\", \"she\", \"should\", \"show\", \"side\", \"since\", \"sincere\", \"six\", \"sixty\", \"so\", \"some\", \"somehow\", \"someone\", \"something\", \"sometime\", \"sometimes\", \"somewhere\", \"still\", \"such\", \"system\", \"take\", \"ten\", \"than\", \"that\", \"the\", \"their\", \"them\", \"themselves\", \"then\", \"thence\", \"there\", \"thereafter\", \"thereby\", \"therefore\", \"therein\", \"thereupon\", \"these\", \"they\", \"thickv\", \"thin\", \"third\", \"this\", \"those\", \"though\", \"three\", \"through\", \"throughout\", \"thru\", \"thus\", \"to\", \"together\", \"too\", \"top\", \"toward\", \"towards\", \"twelve\", \"twenty\", \"two\", \"un\", \"under\", \"until\", \"up\", \"upon\", \"us\", \"very\", \"via\", \"was\", \"we\", \"well\", \"were\", \"what\", \"whatever\", \"when\", \"whence\", \"whenever\", \"where\", \"whereafter\", \"whereas\", \"whereby\", \"wherein\", \"whereupon\", \"wherever\", \"whether\", \"which\", \"while\", \"whither\", \"who\", \"whoever\", \"whole\", \"whom\", \"whose\", \"why\", \"will\", \"with\", \"within\", \"without\", \"would\", \"yet\", \"you\", \"your\", \"yours\", \"yourself\", \"yourselves\", \"the\",'like', 'think', 'know', 'want', 'sure', 'thing', 'send', 'sent', 'speech', 'print', 'time','want', 'said', 'maybe', 'today', 'tomorrow', 'thank', 'thanks']\n",
    "specific_stop_words = ['base', 'use', 'model', 'process', 'network']\n",
    "sw =stopwords.words('english') + english_stop_words + specific_stop_words"
   ]
  },
  {
   "cell_type": "markdown",
   "metadata": {},
   "source": [
    "We decide to use a stemmer and not a lemmatizer (from nltk). The reason is that we want to group together words with the same meaning. For example if one publication contains _algorithm_ and another one contains _Algorithmic_ in this case it would help to map those 2 words to the same. Let's see the output of a stemmer and lemmatizer. Even if our model should be able to capture the similitude among those 2 words, it will help reduce the vocabulary and speed up the training"
   ]
  },
  {
   "cell_type": "code",
   "execution_count": 74,
   "metadata": {},
   "outputs": [
    {
     "name": "stdout",
     "output_type": "stream",
     "text": [
      "Stemmer algorithm algorithm\n",
      "Lemmatizer algorithm Algorithmic\n"
     ]
    }
   ],
   "source": [
    "lemmatizer = WordNetLemmatizer()\n",
    "stemmer = EnglishStemmer()\n",
    "\n",
    "print(\"Stemmer\",stemmer.stem(\"Algorithm\"), stemmer.stem(\"Algorithmic\"))\n",
    "print(\"Lemmatizer\",lemmatizer.lemmatize(\"algorithm\"), lemmatizer.lemmatize(\"Algorithmic\"))"
   ]
  },
  {
   "cell_type": "markdown",
   "metadata": {},
   "source": [
    "Indeed the lemmatizer keep 2 different words. Let's use the stemmer"
   ]
  },
  {
   "cell_type": "code",
   "execution_count": 75,
   "metadata": {
    "scrolled": true
   },
   "outputs": [
    {
     "data": {
      "application/vnd.jupyter.widget-view+json": {
       "model_id": "369e6546a67943bb8aa01ceb4ffd90f8"
      }
     },
     "metadata": {},
     "output_type": "display_data"
    },
    {
     "name": "stdout",
     "output_type": "stream",
     "text": [
      "\n"
     ]
    }
   ],
   "source": [
    "def pre_processing(titles):\n",
    "    list_of_tokens = []\n",
    "    for title in titles:\n",
    "        tokens = utils.simple_preprocess(title)\n",
    "        tokens = [stemmer.stem(x) for x in tokens]\n",
    "        tokens = list(filter(lambda t: t not in sw, tokens))\n",
    "        list_of_tokens.append(tokens)\n",
    "    return list_of_tokens\n",
    "authorID_to_titles_stem = {id_: pre_processing(titles) for id_, titles in tqdm(authorID_to_titles.items())} \n",
    "                      \n",
    "utl.pickle_data(authorID_to_titles_stem, \"../pmi_data/authorID_to_titles_stem.p\")                     "
   ]
  },
  {
   "cell_type": "markdown",
   "metadata": {},
   "source": [
    "# Topic Extraction"
   ]
  },
  {
   "cell_type": "markdown",
   "metadata": {},
   "source": [
    "We want to extract the k main topics among all the publication. And then for each author we will compute its score in each one of those topics\n",
    "\n",
    "We use **Latent Dirichlet allocation** and the implementation provided by **Gensim**. "
   ]
  },
  {
   "cell_type": "markdown",
   "metadata": {},
   "source": [
    "## Latent Dirichlet allocation (LDA)"
   ]
  },
  {
   "cell_type": "markdown",
   "metadata": {},
   "source": [
    "The principle behind LDA is that if you have a collection of documents, each documents represent a **mixtures of topics**. It's means that a documents contains words that belong to different categories. The goal of LDA is to retrieve those sets of words used to create the documents"
   ]
  },
  {
   "cell_type": "markdown",
   "metadata": {},
   "source": [
    "## Extraction"
   ]
  },
  {
   "cell_type": "markdown",
   "metadata": {},
   "source": [
    "We have a dictionnary of ```authorID-> list(list(tokens))``` with the inner list representing the titles"
   ]
  },
  {
   "cell_type": "markdown",
   "metadata": {},
   "source": [
    "The LDA implementation of gensim take as parameter:\n",
    "    - a dictionary token -> id\n",
    "    - list of list of (token,token_count) \n",
    "We use 2 functions provided by Gensim   \n",
    "\n",
    "Since we are dealing with title, most of the time, all the words we have an occurance of 1 in the titles. And then all the word will have the same importance it will be hard for the algorithm to infer the probality p(topics | title)\n",
    "\n",
    "Since we want to find the set of topic that represent an author, it means that we have already made the assumption that all the publications of one author should be in a subset of topics. So lets put all the publication of one author together like if it was a big documents"
   ]
  },
  {
   "cell_type": "code",
   "execution_count": 76,
   "metadata": {
    "collapsed": true
   },
   "outputs": [],
   "source": [
    "authorID_to_titles_stem = utl.load_pickle(\"../pmi_data/authorID_to_titles_stem.p\")                     "
   ]
  },
  {
   "cell_type": "code",
   "execution_count": 77,
   "metadata": {},
   "outputs": [
    {
     "data": {
      "application/vnd.jupyter.widget-view+json": {
       "model_id": "509d7c69e43b4999988abf544e7350cc"
      }
     },
     "metadata": {},
     "output_type": "display_data"
    },
    {
     "name": "stdout",
     "output_type": "stream",
     "text": [
      "\n"
     ]
    }
   ],
   "source": [
    "authorID_to_document = dict()\n",
    "for author, titles in tqdm(authorID_to_titles_stem.items()):\n",
    "    authorID_to_document[author] = []\n",
    "    for t in titles:\n",
    "        authorID_to_document[author].extend(t)\n"
   ]
  },
  {
   "cell_type": "markdown",
   "metadata": {},
   "source": [
    "Now we have a list of author->document. We can build the dictionaray and transform each document to a list of (token, token_count)"
   ]
  },
  {
   "cell_type": "code",
   "execution_count": 78,
   "metadata": {
    "scrolled": true
   },
   "outputs": [
    {
     "data": {
      "application/vnd.jupyter.widget-view+json": {
       "model_id": "b5ee3097fb054080acc84c6bf70bb2a7"
      }
     },
     "metadata": {},
     "output_type": "display_data"
    },
    {
     "name": "stdout",
     "output_type": "stream",
     "text": [
      "\n"
     ]
    },
    {
     "data": {
      "application/vnd.jupyter.widget-view+json": {
       "model_id": "60dbb2dde5524ec4a1f2f97ba585dc85"
      }
     },
     "metadata": {},
     "output_type": "display_data"
    },
    {
     "name": "stdout",
     "output_type": "stream",
     "text": [
      "\n"
     ]
    }
   ],
   "source": [
    "dictionary = corpora.Dictionary([doc for doc in tqdm(authorID_to_document.values())])\n",
    "corpus = [dictionary.doc2bow(doc) for doc in tqdm(authorID_to_document.values())]"
   ]
  },
  {
   "cell_type": "markdown",
   "metadata": {},
   "source": [
    "Set up the number of parameter, we select 20 topics. "
   ]
  },
  {
   "cell_type": "code",
   "execution_count": 94,
   "metadata": {
    "collapsed": true
   },
   "outputs": [],
   "source": [
    "#parameters\n",
    "num_topics = 20 # number of topics LDA has to select\n",
    "passes = 1 # number of passe in the lda training\n",
    "num_words = 5 # number of most important word in one topic to be printed"
   ]
  },
  {
   "cell_type": "code",
   "execution_count": 80,
   "metadata": {
    "collapsed": true
   },
   "outputs": [],
   "source": [
    "tmp = corpus"
   ]
  },
  {
   "cell_type": "code",
   "execution_count": 81,
   "metadata": {
    "collapsed": true
   },
   "outputs": [],
   "source": [
    "corpus = tmp\n",
    "corpus = np.random.choice(corpus, int(len(corpus)/1000))"
   ]
  },
  {
   "cell_type": "code",
   "execution_count": 82,
   "metadata": {},
   "outputs": [
    {
     "data": {
      "text/plain": [
       "1888"
      ]
     },
     "execution_count": 82,
     "metadata": {},
     "output_type": "execute_result"
    }
   ],
   "source": [
    "len(corpus)"
   ]
  },
  {
   "cell_type": "code",
   "execution_count": 91,
   "metadata": {},
   "outputs": [
    {
     "data": {
      "application/vnd.jupyter.widget-view+json": {
       "model_id": "6c50d9d8411343b5b0d6133bda8d833b"
      }
     },
     "metadata": {},
     "output_type": "display_data"
    },
    {
     "data": {
      "text/plain": [
       "67927"
      ]
     },
     "execution_count": 91,
     "metadata": {},
     "output_type": "execute_result"
    },
    {
     "name": "stdout",
     "output_type": "stream",
     "text": [
      "\r",
      "          \r",
      "17849/|/  1%|| 17849/1888607 [00:40<1:09:54, 445.98it/s]"
     ]
    }
   ],
   "source": [
    "c = [c for c in tqdm(tmp) if len(c)> 100]\n",
    "len(c)"
   ]
  },
  {
   "cell_type": "code",
   "execution_count": 95,
   "metadata": {
    "scrolled": true
   },
   "outputs": [
    {
     "name": "stdout",
     "output_type": "stream",
     "text": [
      "Training time: 7.2 [min]\n",
      "[(0,\n",
      "  '0.060*\"data\" + 0.021*\"databas\" + 0.013*\"protein\" + 0.013*\"predict\" + '\n",
      "  '0.013*\"queri\"'),\n",
      " (1,\n",
      "  '0.048*\"algorithm\" + 0.040*\"problem\" + 0.030*\"optim\" + 0.015*\"approxim\" + '\n",
      "  '0.011*\"search\"'),\n",
      " (2,\n",
      "  '0.064*\"control\" + 0.033*\"fuzzi\" + 0.017*\"neural\" + 0.016*\"optim\" + '\n",
      "  '0.014*\"stabil\"'),\n",
      " (3,\n",
      "  '0.044*\"robot\" + 0.018*\"mobil\" + 0.017*\"interact\" + 0.014*\"human\" + '\n",
      "  '0.014*\"visual\"'),\n",
      " (4,\n",
      "  '0.027*\"web\" + 0.025*\"semant\" + 0.019*\"retriev\" + 0.018*\"inform\" + '\n",
      "  '0.016*\"search\"'),\n",
      " (5,\n",
      "  '0.059*\"secur\" + 0.022*\"attack\" + 0.018*\"scheme\" + 0.018*\"privaci\" + '\n",
      "  '0.017*\"key\"'),\n",
      " (6,\n",
      "  '0.033*\"logic\" + 0.028*\"program\" + 0.019*\"languag\" + 0.011*\"verif\" + '\n",
      "  '0.011*\"formal\"'),\n",
      " (7,\n",
      "  '0.049*\"architectur\" + 0.036*\"design\" + 0.034*\"simul\" + 0.023*\"reconfigur\" + '\n",
      "  '0.019*\"applic\"'),\n",
      " (8,\n",
      "  '0.020*\"method\" + 0.017*\"estim\" + 0.013*\"analysi\" + 0.012*\"signal\" + '\n",
      "  '0.011*\"filter\"'),\n",
      " (9, '0.041*\"eacut\" + 0.021*\"data\" + 0.014*\"sar\" + 0.010*\"la\" + 0.009*\"remot\"'),\n",
      " (10,\n",
      "  '0.032*\"wireless\" + 0.025*\"channel\" + 0.014*\"code\" + 0.014*\"sensor\" + '\n",
      "  '0.012*\"communic\"'),\n",
      " (11,\n",
      "  '0.062*\"imag\" + 0.016*\"detect\" + 0.014*\"segment\" + 0.010*\"featur\" + '\n",
      "  '0.009*\"object\"'),\n",
      " (12,\n",
      "  '0.039*\"graph\" + 0.017*\"comput\" + 0.014*\"complex\" + 0.013*\"code\" + '\n",
      "  '0.011*\"bound\"'),\n",
      " (13,\n",
      "  '0.023*\"power\" + 0.018*\"design\" + 0.015*\"circuit\" + 0.015*\"low\" + '\n",
      "  '0.013*\"high\"'),\n",
      " (14,\n",
      "  '0.044*\"learn\" + 0.026*\"recognit\" + 0.017*\"featur\" + 0.016*\"classif\" + '\n",
      "  '0.012*\"neural\"'),\n",
      " (15,\n",
      "  '0.032*\"servic\" + 0.022*\"agent\" + 0.018*\"manag\" + 0.015*\"approach\" + '\n",
      "  '0.014*\"web\"'),\n",
      " (16,\n",
      "  '0.020*\"distribut\" + 0.018*\"schedul\" + 0.015*\"perform\" + 0.015*\"data\" + '\n",
      "  '0.014*\"servic\"'),\n",
      " (17,\n",
      "  '0.045*\"softwar\" + 0.019*\"develop\" + 0.017*\"test\" + 0.017*\"engin\" + '\n",
      "  '0.014*\"studi\"'),\n",
      " (18,\n",
      "  '0.016*\"inform\" + 0.012*\"design\" + 0.011*\"user\" + 0.009*\"studi\" + '\n",
      "  '0.009*\"interact\"'),\n",
      " (19,\n",
      "  '0.054*\"video\" + 0.034*\"parallel\" + 0.026*\"code\" + 0.018*\"perform\" + '\n",
      "  '0.016*\"stream\"')]\n"
     ]
    }
   ],
   "source": [
    "start = time()\n",
    "pp = pprint.PrettyPrinter(depth=2)\n",
    "lda = models.LdaModel(c, num_topics=num_topics, id2word = dictionary, passes=passes)\n",
    "print(\"Training time:\", round((time()-start)/60,2),\"[min]\")\n",
    "pp.pprint(lda.print_topics(lda.num_topics, num_words=num_words))\n",
    "lda.save('lda.model')\n",
    "utl.pickle_data(lda, \"../pmi_data/lda_model__20_100.p\")"
   ]
  },
  {
   "cell_type": "code",
   "execution_count": 96,
   "metadata": {
    "collapsed": true
   },
   "outputs": [],
   "source": [
    "def compute_score(titles):\n",
    "    total_score = np.zeros(num_topics)\n",
    "    for title in titles:\n",
    "        #lda output : [(id1, score1), (id2, score2),... if id != 0]\n",
    "        for id_, value in lda[dictionary.doc2bow(title)]:\n",
    "            total_score[id_] += value\n",
    "    return total_score    "
   ]
  },
  {
   "cell_type": "code",
   "execution_count": 98,
   "metadata": {},
   "outputs": [
    {
     "data": {
      "application/vnd.jupyter.widget-view+json": {
       "model_id": "a5e2c83287874157b156c6605b1d9a0e"
      }
     },
     "metadata": {},
     "output_type": "display_data"
    },
    {
     "name": "stdout",
     "output_type": "stream",
     "text": [
      "3500/|/  0%|| 3500/1888607 [00:27<4:03:43, 128.91it/s]\n"
     ]
    }
   ],
   "source": [
    "score_by_author_by_document = [compute_score([doc]) for _, doc in tqdm(authorID_to_document.items())]\n",
    "utl.pickle_data(score_by_author_by_document, \"../pmi_data/score_by_author_by_document.p\")"
   ]
  },
  {
   "cell_type": "code",
   "execution_count": null,
   "metadata": {},
   "outputs": [],
   "source": [
    "score_by_author_by_titles = [compute_score(titles) for _, titles in tqdm(authorID_to_titles_stem.items())]\n",
    "utl.pickle_data(score_by_author_by_titles,\"../pmi_data/score_by_author_by_titles.p\")"
   ]
  },
  {
   "cell_type": "code",
   "execution_count": null,
   "metadata": {
    "collapsed": true
   },
   "outputs": [],
   "source": []
  },
  {
   "cell_type": "code",
   "execution_count": null,
   "metadata": {
    "collapsed": true
   },
   "outputs": [],
   "source": []
  }
 ],
 "metadata": {
  "anaconda-cloud": {},
  "kernelspec": {
   "display_name": "Python 3",
   "language": "python",
   "name": "python3"
  },
  "language_info": {
   "codemirror_mode": {
    "name": "ipython",
    "version": 3
   },
   "file_extension": ".py",
   "mimetype": "text/x-python",
   "name": "python",
   "nbconvert_exporter": "python",
   "pygments_lexer": "ipython3",
   "version": "3.5.3"
  },
  "widgets": {
   "state": {
    "8db1587450884196a92ee935f273d93e": {
     "views": [
      {
       "cell_index": 11
      }
     ]
    }
   },
   "version": "1.2.0"
  }
 },
 "nbformat": 4,
 "nbformat_minor": 2
}

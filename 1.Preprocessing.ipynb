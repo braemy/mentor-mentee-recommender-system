{
 "cells": [
  {
   "cell_type": "code",
   "execution_count": 1,
   "metadata": {
    "collapsed": true
   },
   "outputs": [],
   "source": [
    "import utils\n",
    "import gensim\n",
    "from gensim import corpora, models\n",
    "import matplotlib.pyplot as plt\n",
    "import time\n",
    "import regex\n",
    "from tqdm import tqdm_notebook as tqdm\n",
    "\n",
    "root = \".\"\n"
   ]
  },
  {
   "cell_type": "markdown",
   "metadata": {},
   "source": [
    "# Data Mining"
   ]
  },
  {
   "cell_type": "markdown",
   "metadata": {},
   "source": [
    "First thing to do is to find the structure of the file. We can find a description in the \"dblp.dtd\" file and on the [website](http://dblp.uni-trier.de/faq/What+do+I+find+in+dblp+xml.html):"
   ]
  },
  {
   "cell_type": "markdown",
   "metadata": {},
   "source": [
    "  - The children of the root represent the individual data records. There are two types of records: **publication records** and **person records**.\n",
    "  - The xml files contains: article, inproceedings, proceedings, book, incollection, phdthesis, mastersthesis, www, person, data\n",
    "  - A publication record can be:\n",
    "    - article: An article from a journal or magazine.\n",
    "    - inproceedings: A paper in a conference or workshop proceedings.\n",
    "    - proceedings: The proceedings volume of a conference or workshop.\n",
    "    - book: An authored monograph or an edited collection of articles.\n",
    "    - incollection: A part or chapter in a monograph.\n",
    "    - phdthesis: A PhD thesis.\n",
    "    - mastersthesis: A Master's thesis. \n",
    " - Most of the publication contain author/editor and title fields, that the ones we are interested in   \n"
   ]
  },
  {
   "cell_type": "markdown",
   "metadata": {},
   "source": [
    "There are field used to represent the author\n",
    "```\n",
    "<www key=\"homepages/r/CJvanRijsbergen\">\n",
    "<author>C. J. van Rijsbergen</author>\n",
    "<author>Cornelis Joost van Rijsbergen</author>\n",
    "<author>Keith van Rijsbergen</author>\n",
    "<title>Home Page</title>\n",
    "<url>http://www.dcs.gla.ac.uk/~keith/</url>\n",
    "</www>\n",
    "```\n",
    "\n",
    "Those field are called **person record**. An author can be used called by different name (John Doe, J.Doe, Doe) so those records group together the different representation of an author. We need to collect and build a mapping to map a name to the author id (key of the www field). Thanks to the website, we know that :\n",
    "\n",
    "```\n",
    "Person records always have the key-prefix \"homepages/\", \n",
    "the record level tag is always \"www\", and they always \n",
    "contain a title element with the text content \"Home Page\"\n",
    "```\n",
    "\n",
    "\n",
    "Also all the name are unique. If there are 2 homonyms, an id is appened to the name"
   ]
  },
  {
   "cell_type": "markdown",
   "metadata": {},
   "source": [
    "We collect titles and authors of each publication (if 2 authors participate at the same publication, it gives one publication to each authors).\n",
    "\n",
    "In the meantime we collect the person description (all name and id). At the end we will be able to merge the publication of J. Doe and John Doe if both map to the same author"
   ]
  },
  {
   "cell_type": "markdown",
   "metadata": {},
   "source": [
    "# Collect the data"
   ]
  },
  {
   "cell_type": "markdown",
   "metadata": {},
   "source": [
    "To collect the data we use the class **xml_parser**. The function *collect_data()* iterates over the file and collects the mapping:\n",
    "  - author_name -> author_id\n",
    "  - author_name -> titles\n",
    "\n",
    "finally it merges the 2 dicts together to create the:\n",
    "  - author_id -> titles\n",
    "\n",
    "the function saves the 3 dictionnaries in the same folder as the original data\n",
    "\n"
   ]
  },
  {
   "cell_type": "markdown",
   "metadata": {},
   "source": [
    "Uncomment the last line to parse the file, can take a few minutes (around 15min on my computer)"
   ]
  },
  {
   "cell_type": "code",
   "execution_count": 3,
   "metadata": {
    "scrolled": true
   },
   "outputs": [
    {
     "name": "stderr",
     "output_type": "stream",
     "text": [
      "2232it [00:00, 22314.28it/s]"
     ]
    },
    {
     "name": "stdout",
     "output_type": "stream",
     "text": [
      "Start collecting\n"
     ]
    },
    {
     "name": "stderr",
     "output_type": "stream",
     "text": [
      "51633859it [24:59, 34444.36it/s]\n"
     ]
    },
    {
     "name": "stdout",
     "output_type": "stream",
     "text": [
      "Saving author_publication in  ../pmi_data/authorName_publication.p\n"
     ]
    },
    {
     "name": "stderr",
     "output_type": "stream",
     "text": [
      "  1%|▏         | 26105/1924181 [00:00<00:07, 261046.51it/s]"
     ]
    },
    {
     "name": "stdout",
     "output_type": "stream",
     "text": [
      "Saving author_to_authorID in  ../pmi_data/authorName_to_authorID.p\n",
      "Saving authorID_to_publications in  ../pmi_data/authorID_to_publications.p\n",
      "merge authorID and publication\n"
     ]
    },
    {
     "name": "stderr",
     "output_type": "stream",
     "text": [
      "100%|██████████| 1924181/1924181 [00:18<00:00, 106173.32it/s]\n"
     ]
    },
    {
     "name": "stdout",
     "output_type": "stream",
     "text": [
      "Saving author_publication in  ../pmi_data/authorName_publication.p\n",
      "Saving author_to_authorID in  ../pmi_data/authorName_to_authorID.p\n",
      "Saving authorID_to_publications in  ../pmi_data/authorID_to_publications.p\n"
     ]
    }
   ],
   "source": [
    "from importlib import reload\n",
    "import xml_parser\n",
    "reload(xml_parser)\n",
    "from xml_parser import Xml_parser\n",
    "\n",
    "#Xml_parser = Xml_parser().collect_data(\"../pmi_data\")"
   ]
  },
  {
   "cell_type": "markdown",
   "metadata": {},
   "source": [
    "# Observation of the data"
   ]
  },
  {
   "cell_type": "markdown",
   "metadata": {},
   "source": [
    "Load the author-> publication dataset and plot the distribution of publications"
   ]
  },
  {
   "cell_type": "code",
   "execution_count": 2,
   "metadata": {
    "collapsed": true
   },
   "outputs": [],
   "source": [
    "authorID_to_titles = utils.load_pickle(\"../pmi_data/authorID_to_publications.p\")"
   ]
  },
  {
   "cell_type": "code",
   "execution_count": 3,
   "metadata": {},
   "outputs": [
    {
     "data": {
      "application/vnd.jupyter.widget-view+json": {
       "model_id": "d1e422f18f3d4cb38c07329ec87d52b8"
      }
     },
     "metadata": {},
     "output_type": "display_data"
    },
    {
     "name": "stdout",
     "output_type": "stream",
     "text": [
      "\n"
     ]
    }
   ],
   "source": [
    "authorID_to_count = {k:len(v['titles']) for k,v in tqdm(authorID_to_titles.items())}"
   ]
  },
  {
   "cell_type": "code",
   "execution_count": 4,
   "metadata": {},
   "outputs": [
    {
     "data": {
      "image/png": "[encoded data removed]",
      "text/plain": [
       "<matplotlib.figure.Figure at 0x7f221bcca160>"
      ]
     },
     "metadata": {},
     "output_type": "display_data"
    },
    {
     "name": "stdout",
     "output_type": "stream",
     "text": [
      "Max 1018, min 1\n"
     ]
    }
   ],
   "source": [
    "fig = plt.figure()\n",
    "ax = fig.add_subplot(111)\n",
    "data = list(authorID_to_count.values())\n",
    "binwidth = int((max(data)-min(data))/20)\n",
    "ax.hist(data,\n",
    "       bins=range(min(data), max(data) + binwidth, binwidth))\n",
    "plt.show()\n",
    "print(\"Max {0}, min {1}\".format(max(data), min(data)))"
   ]
  },
  {
   "cell_type": "markdown",
   "metadata": {},
   "source": [
    "We can observe that most of the authors have between 1 and 50 publications. A few author have around 50 and 200 publications which seems reasanable. Howerwer, the maximum is mode than 1000 which is to much. Let's investigate the outliers\n",
    "\n"
   ]
  },
  {
   "cell_type": "markdown",
   "metadata": {},
   "source": [
    "[Here](http://dblp.uni-trier.de/faq/Why+are+some+names+followed+by+a+four+digit+number.html) we can found some very important informations about names :\n",
    "- In the case of homonymous names, dblp aims to use the name version **without any suffix** (number after the name) as a **person disambiguation page**, and not as the **bibliography of an actual person**. Any publication listed on such a page has not been assigned to an actual author (i.e., someone with a homonym suffix number) yet.\n",
    "- Since in the **early days of dblp author name versions without a homonym suffix number had been used as normal bibliography pages**, too, there can still be found examples of homonymous names where the entity without any suffix is still considered to model the bibliography of an actual person. Removing the last remnants of these examples by giving explicit suffix numbers is currently a work in progress at dblp.\n",
    "- Currently, **you could use the following rule of thumb to distinguish most cases adequately:**:\n",
    "    - If a person page has a homonymous name variant using the suffix \"0001\", and the page carries no additional person information like a home page link or an affiliation note => Drop it (disambiguation page) \n",
    "    - Otherwise :\n",
    "        - if the earliest homonym name starts with suffix \"0002\"\n",
    "        - there are additional pieces of author information given) \n",
    "        - The number of publication is between 0 and 50\n",
    "        \n",
    "        =>then the page is likely to be intended to be the profile of an actual person\n",
    "\n",
    "\n",
    "After investigation the notation of the data is quite messy. They are not consistent with the notification of the id: homepages/c/LeiChen0018, homepages/c/LeiChen-17, homepages/c/LeiChen18\n",
    "\n",
    "So let's just try to apply the rule: if infos about the author (\"note\" or \"url\") keep it\n",
    "\n",
    "Even by applying those rule it doesn't seems to remove all the disambiguation pages. \n",
    "To keep it simple we will use a reasonable number of publications as threshold.\n",
    "\n",
    "Observe the proportion of author above a limit:\n"
   ]
  },
  {
   "cell_type": "code",
   "execution_count": 5,
   "metadata": {},
   "outputs": [
    {
     "name": "stdout",
     "output_type": "stream",
     "text": [
      "Authors with more than 1010: 2 (0.0001%)\n",
      "Authors with more than 500: 149 (0.0079%)\n",
      "Authors with more than 300: 698 (0.0369%)\n",
      "Authors with more than 200: 2002 (0.1059%)\n",
      "Authors with more than 190: 2249 (0.1189%)\n",
      "Authors with more than 50: 26952 (1.4254%)\n"
     ]
    }
   ],
   "source": [
    "def get_author_with_more_than(data, max_):\n",
    "    more_than = [k for k, v in data.items() if v >max_]\n",
    "    print(\"Authors with more than {0}: {1} ({2}%)\".format(max_, len(more_than), round(len(more_than)/len(data)*100,4)))\n",
    "get_author_with_more_than(authorID_to_count, 1010)\n",
    "get_author_with_more_than(authorID_to_count, 500) \n",
    "get_author_with_more_than(authorID_to_count, 300)\n",
    "get_author_with_more_than(authorID_to_count, 200)\n",
    "get_author_with_more_than(authorID_to_count, 190)\n",
    "get_author_with_more_than(authorID_to_count, 50)"
   ]
  },
  {
   "cell_type": "markdown",
   "metadata": {},
   "source": [
    "We will use 190 as a threshold. We won't remove to much authors (0.1%) and above 190 publications it seems too much"
   ]
  },
  {
   "cell_type": "code",
   "execution_count": 6,
   "metadata": {},
   "outputs": [
    {
     "data": {
      "application/vnd.jupyter.widget-view+json": {
       "model_id": "ed04c50e25f54a0fa16125793d6e2234"
      }
     },
     "metadata": {},
     "output_type": "display_data"
    },
    {
     "name": "stdout",
     "output_type": "stream",
     "text": [
      "\n"
     ]
    }
   ],
   "source": [
    "authors_to_titles_clean= {author:v['titles'] for author, v in tqdm(authorID_to_titles.items()) if len(v['titles'])<=190}"
   ]
  },
  {
   "cell_type": "code",
   "execution_count": 7,
   "metadata": {},
   "outputs": [
    {
     "data": {
      "application/vnd.jupyter.widget-view+json": {
       "model_id": "d4b80c33ea5544bc9ab01929c2f70c36"
      }
     },
     "metadata": {},
     "output_type": "display_data"
    },
    {
     "name": "stdout",
     "output_type": "stream",
     "text": [
      "\n"
     ]
    },
    {
     "data": {
      "image/png": "[encoded data removed]",
      "text/plain": [
       "<matplotlib.figure.Figure at 0x7f221bd52ba8>"
      ]
     },
     "metadata": {},
     "output_type": "display_data"
    },
    {
     "name": "stdout",
     "output_type": "stream",
     "text": [
      "Max 190, min 1\n"
     ]
    }
   ],
   "source": [
    "authorID_to_count = {k:len(titles) for k,titles in tqdm(authors_to_titles_clean.items())}\n",
    "fig = plt.figure()\n",
    "ax = fig.add_subplot(111)\n",
    "data = list(authorID_to_count.values())\n",
    "binwidth = int((max(data)-min(data))/20)\n",
    "ax.hist(data,\n",
    "       bins=range(min(data), max(data) + binwidth, binwidth))\n",
    "plt.show()\n",
    "print(\"Max {0}, min {1}\".format(max(data), min(data)))"
   ]
  },
  {
   "cell_type": "code",
   "execution_count": 10,
   "metadata": {
    "collapsed": true
   },
   "outputs": [],
   "source": [
    "utils.pickle_data(authors_to_titles_clean, \"../pmi_data/authorID_to_publications_clean.p\")"
   ]
  },
  {
   "cell_type": "markdown",
   "metadata": {},
   "source": [
    "This plot is reasonable. Let's move on to the next step (see notebook 2.Topics)"
   ]
  }
 ],
 "metadata": {
  "anaconda-cloud": {},
  "kernelspec": {
   "display_name": "Python 3",
   "language": "python",
   "name": "python3"
  },
  "language_info": {
   "codemirror_mode": {
    "name": "ipython",
    "version": 3
   },
   "file_extension": ".py",
   "mimetype": "text/x-python",
   "name": "python",
   "nbconvert_exporter": "python",
   "pygments_lexer": "ipython3",
   "version": "3.5.3"
  },
  "widgets": {
   "state": {
    "5a19c023438445e884a465e08f3221e0": {
     "views": [
      {
       "cell_index": 17
      }
     ]
    },
    "dd162cd0b8eb448db15fb4be20239f97": {
     "views": [
      {
       "cell_index": 12
      }
     ]
    }
   },
   "version": "1.2.0"
  }
 },
 "nbformat": 4,
 "nbformat_minor": 1
}
